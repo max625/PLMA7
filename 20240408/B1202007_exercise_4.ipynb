{
  "nbformat": 4,
  "nbformat_minor": 0,
  "metadata": {
    "colab": {
      "provenance": []
    },
    "kernelspec": {
      "name": "python3",
      "display_name": "Python 3"
    },
    "language_info": {
      "name": "python"
    }
  },
  "cells": [
    {
      "cell_type": "code",
      "execution_count": 7,
      "metadata": {
        "colab": {
          "base_uri": "https://localhost:8080/"
        },
        "id": "eWbGuE8fkNc8",
        "outputId": "39ea70a9-8614-459b-ff1a-0302743d08a9"
      },
      "outputs": [
        {
          "output_type": "stream",
          "name": "stdout",
          "text": [
            "輸入體重（公斤）：82\n",
            "輸入身高（公分）：178\n",
            "你的BMI為： 25.88057063502083\n",
            "過重\n"
          ]
        }
      ],
      "source": [
        "from math import pow\n",
        "a=int(input(\"輸入體重（公斤）：\"))\n",
        "b=float(input(\"輸入身高（公分）：\"))\n",
        "d=b/100\n",
        "c = pow(d, 2)\n",
        "a /= c\n",
        "print('你的BMI為：', a)\n",
        "if a<18.5:\n",
        "  print(\"過輕\")\n",
        "elif 18.5<=a<24:\n",
        "  print('適中')\n",
        "elif 24<=a<27:\n",
        "  print('過重')\n",
        "else:\n",
        "  print('過胖')\n"
      ]
    },
    {
      "cell_type": "code",
      "source": [
        "a=input('請輸入第一個數字:')\n",
        "b=input('請輸入運算符號:')\n",
        "c=input('請輸入第二個數字:')\n",
        "a=float(a)\n",
        "c=float(c)\n",
        "\n",
        "\n",
        "if b=='+':\n",
        "  print(a+c)\n",
        "elif b=='-':\n",
        "  print(a-c)\n",
        "elif b=='*':\n",
        "  print(a*c)\n",
        "else:\n",
        "  print(a/c/)\n"
      ],
      "metadata": {
        "colab": {
          "base_uri": "https://localhost:8080/"
        },
        "id": "aBbkuhEElUdi",
        "outputId": "7d252133-a1d4-4a5b-94f3-a1c588e1d091"
      },
      "execution_count": 18,
      "outputs": [
        {
          "output_type": "stream",
          "name": "stdout",
          "text": [
            "請輸入第一個數字:1\n",
            "請輸入運算符號:\n",
            "請輸入第二個數字:1\n",
            "1.0\n"
          ]
        }
      ]
    }
  ]
}